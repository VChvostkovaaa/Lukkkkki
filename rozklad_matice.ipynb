{
 "cells": [
  {
   "metadata": {},
   "cell_type": "markdown",
   "source": [
    "1. Naprogramujte v programovacím jazyce Python LUP rozklad matice A ∈ R^(n x n) s částečnou pivotizací například pomocí následujícího pseudokódu:\n",
    "\n",
    "        for k = 1 : n - 1\n",
    "            Determine μ with k ≤ μ ≤ n so |A(μ; k)| = ||A(k : n; k)|| oo\n",
    "            A(k; k : n) ⇔ A(μ; k : n)\n",
    "            p(k) = μ\n",
    "            if A(k; k) ≠ 0\n",
    "                rows = (k + 1) : n\n",
    "                A(rows; k) = A(rows; k) / A(k; k)\n",
    "                A(rows; rows) = A(rows; rows) - A(rows; k) * A(k; rows)\n",
    "            end\n",
    "        end"
   ],
   "id": "43b98ab5350cb4e6"
  },
  {
   "metadata": {},
   "cell_type": "markdown",
   "source": [
    "- **L** je **dolní trojúhelníková matice** (má čísla na diagonále a pod ní, nad diagonálou jsou nuly).\n",
    "- **U** je **horní trojúhelníková matice** (má čísla na diagonále a nad ní, pod diagonálou jsou nuly).\n",
    "- **P** je permutační matice** (říká nám, jestli a jak jsme prohazovali řádky v původní matici)."
   ],
   "id": "7ea129f83dd82f2c"
  },
  {
   "metadata": {
    "ExecuteTime": {
     "end_time": "2025-04-20T07:35:46.516840Z",
     "start_time": "2025-04-20T07:35:46.439781Z"
    }
   },
   "cell_type": "code",
   "source": [
    "# importujte potřebnou knihovnu NumPy pod zkratkou np\n",
    "import numpy as np"
   ],
   "id": "cf8cdea039f5f2cd",
   "outputs": [],
   "execution_count": 1
  },
  {
   "metadata": {
    "ExecuteTime": {
     "end_time": "2025-04-20T14:22:45.349538Z",
     "start_time": "2025-04-20T14:22:45.339589Z"
    }
   },
   "cell_type": "code",
   "source": [
    "def LUP_rozklad(A):\n",
    "    # Tvoje funkce LUP_rozklad(A) si nejprve udělá kopii matice A, aby neponičila tu původní,\n",
    "    # a převede ji na desetinná čísla (float).\n",
    "    # Pak zjistí její velikost (n) a vytvoří matici P jako jednotkovou matici stejné velikosti.\n",
    "    A = A.copy().astype(float)\n",
    "    n = A.shape[0]\n",
    "    P = np.eye(n)\n",
    "\n",
    "    print(\"Původní matice A:\\n\", A)\n",
    "    print(\"_____________________________\")\n",
    "\n",
    "    # Tato smyčka probíhá pro každý sloupec matice (kromě posledního), kde se snažíme vynulovat prvky pod diagonálou.\n",
    "    for k in range(n - 1):\n",
    "        pivot_index = np.argmax(np.abs(A[k:n, k])) + k\n",
    "        print(f\"Krok {k +1} : pivot v řádku {pivot_index} pro sloupec {k}\")\n",
    "\n",
    "        if pivot_index != k:\n",
    "            print(f\"Prohazuji řádky {k} a {pivot_index}\")\n",
    "            A[[k, pivot_index], :] = A[[pivot_index, k], :]\n",
    "            P[[k, pivot_index]] = P[[pivot_index, k]]\n",
    "            print(\"A po prohození:\\n\", A)\n",
    "            print(\"_____________________________\")\n",
    "            print(\"P:\\n\" ,P)\n",
    "            print(\"____________________________\")\n",
    "\n",
    "        if A[k, k] != 0:\n",
    "            for row in range(k + 1, n):\n",
    "                A[row, k] /= A[k, k]\n",
    "                A[row, k + 1:n] -= A[row, k] * A[k, k + 1:n]\n",
    "            print(\"A po eliminaci:\\n\", A)\n",
    "        print(\"_____________________________\")\n",
    "\n",
    "    L = np.tril(A, k = -1) + np.eye(n) #L: Vezme se dolní trojúhelník z A (bez hlavní diagonály, k=-1) a na diagonálu se dají jedničky.\n",
    "    U = np.triu(A)\n",
    "    return P, L, U\n"
   ],
   "id": "6d27ab4e0159f4",
   "outputs": [],
   "execution_count": 24
  },
  {
   "metadata": {
    "ExecuteTime": {
     "end_time": "2025-04-20T14:22:46.681651Z",
     "start_time": "2025-04-20T14:22:46.675084Z"
    }
   },
   "cell_type": "code",
   "source": [
    "A = np.array([[4, 2, 1, 3],\n",
    "              [3, 6, 2, 5],\n",
    "              [2, 1, 3, 7],\n",
    "              [5 , 9, 3, 8]], dtype=float)\n",
    "\n",
    "P, L, U = LUP_rozklad(A)"
   ],
   "id": "59be650a8a3c5ba1",
   "outputs": [
    {
     "name": "stdout",
     "output_type": "stream",
     "text": [
      "Původní matice A:\n",
      " [[4. 2. 1. 3.]\n",
      " [3. 6. 2. 5.]\n",
      " [2. 1. 3. 7.]\n",
      " [5. 9. 3. 8.]]\n",
      "_____________________________\n",
      "Krok 1 : pivot v řádku 3 pro sloupec 0\n",
      "Prohazuji řádky 0 a 3\n",
      "A po prohození:\n",
      " [[5. 9. 3. 8.]\n",
      " [3. 6. 2. 5.]\n",
      " [2. 1. 3. 7.]\n",
      " [4. 2. 1. 3.]]\n",
      "_____________________________\n",
      "P:\n",
      " [[0. 0. 0. 1.]\n",
      " [0. 1. 0. 0.]\n",
      " [0. 0. 1. 0.]\n",
      " [1. 0. 0. 0.]]\n",
      "____________________________\n",
      "A po eliminaci:\n",
      " [[ 5.   9.   3.   8. ]\n",
      " [ 0.6  0.6  0.2  0.2]\n",
      " [ 0.4 -2.6  1.8  3.8]\n",
      " [ 0.8 -5.2 -1.4 -3.4]]\n",
      "_____________________________\n",
      "Krok 2 : pivot v řádku 3 pro sloupec 1\n",
      "Prohazuji řádky 1 a 3\n",
      "A po prohození:\n",
      " [[ 5.   9.   3.   8. ]\n",
      " [ 0.8 -5.2 -1.4 -3.4]\n",
      " [ 0.4 -2.6  1.8  3.8]\n",
      " [ 0.6  0.6  0.2  0.2]]\n",
      "_____________________________\n",
      "P:\n",
      " [[0. 0. 0. 1.]\n",
      " [1. 0. 0. 0.]\n",
      " [0. 0. 1. 0.]\n",
      " [0. 1. 0. 0.]]\n",
      "____________________________\n",
      "A po eliminaci:\n",
      " [[ 5.          9.          3.          8.        ]\n",
      " [ 0.8        -5.2        -1.4        -3.4       ]\n",
      " [ 0.4         0.5         2.5         5.5       ]\n",
      " [ 0.6        -0.11538462  0.03846154 -0.19230769]]\n",
      "_____________________________\n",
      "Krok 3 : pivot v řádku 2 pro sloupec 2\n",
      "A po eliminaci:\n",
      " [[ 5.          9.          3.          8.        ]\n",
      " [ 0.8        -5.2        -1.4        -3.4       ]\n",
      " [ 0.4         0.5         2.5         5.5       ]\n",
      " [ 0.6        -0.11538462  0.01538462 -0.27692308]]\n",
      "_____________________________\n"
     ]
    }
   ],
   "execution_count": 25
  },
  {
   "metadata": {
    "ExecuteTime": {
     "end_time": "2025-04-20T14:23:14.532311Z",
     "start_time": "2025-04-20T14:23:14.524194Z"
    }
   },
   "cell_type": "code",
   "source": [
    "print(\"P:\\n \", P)\n",
    "print(\"_____________________________\")\n",
    "print(\"L:\\n \", L)\n",
    "print(\"_____________________________\")\n",
    "print(\"U:\\n \", U)"
   ],
   "id": "b6b8989cbd243f21",
   "outputs": [
    {
     "name": "stdout",
     "output_type": "stream",
     "text": [
      "P:\n",
      "  [[0. 0. 0. 1.]\n",
      " [1. 0. 0. 0.]\n",
      " [0. 0. 1. 0.]\n",
      " [0. 1. 0. 0.]]\n",
      "_____________________________\n",
      "L:\n",
      "  [[ 1.          0.          0.          0.        ]\n",
      " [ 0.8         1.          0.          0.        ]\n",
      " [ 0.4         0.5         1.          0.        ]\n",
      " [ 0.6        -0.11538462  0.01538462  1.        ]]\n",
      "_____________________________\n",
      "U:\n",
      "  [[ 5.          9.          3.          8.        ]\n",
      " [ 0.         -5.2        -1.4        -3.4       ]\n",
      " [ 0.          0.          2.5         5.5       ]\n",
      " [ 0.          0.          0.         -0.27692308]]\n"
     ]
    }
   ],
   "execution_count": 26
  }
 ],
 "metadata": {
  "kernelspec": {
   "display_name": "Python 3",
   "language": "python",
   "name": "python3"
  },
  "language_info": {
   "codemirror_mode": {
    "name": "ipython",
    "version": 2
   },
   "file_extension": ".py",
   "mimetype": "text/x-python",
   "name": "python",
   "nbconvert_exporter": "python",
   "pygments_lexer": "ipython2",
   "version": "2.7.6"
  }
 },
 "nbformat": 4,
 "nbformat_minor": 5
}

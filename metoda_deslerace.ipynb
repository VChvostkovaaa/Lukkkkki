{
 "cells": [
  {
   "cell_type": "markdown",
   "id": "99b7d07fb3d508c1",
   "metadata": {},
   "source": [
    "4. Představme si metodu deflace, která ze spektra matice A odebere vlastní číslo λ. Tato metoda se dá zapsat jako **A_new = A−λ*v*v^T** .Použijte tuto metodu v kombinaci s implementaci\n",
    "mocninné metody uvedené na přednáškách, resp. na cvičení, pro nalezení tří různých (v\n",
    "ideálním případě největších) vlastních čísel vhodně zvolené matice A a naimplementujte\n",
    "ji v programovacím jazyce Python. Můžete vyjít z následujícího pseudokódu:\n",
    "\n",
    "        Input: matrix A, initial approximation x0, maximum number of iterations max_it.\n",
    "        A_1 = A\n",
    "        for j = 1,2,3\n",
    "            q_0 = x0 / ∥x0∥\n",
    "            for k = 1,2,...,max_it\n",
    "                x_k = A_j * q_k−1\n",
    "                q_k = x_k / ∥x_k∥\n",
    "            end for\n",
    "            λ_j = (q_k)^T * Aj * q_k\n",
    "            v_j= q_k\n",
    "            A_j+1 = A_j − λ_j *v_j * v_j^T (deflace)\n",
    "        end for\n",
    "        Output: λ1,λ2,λ3"
   ]
  },
  {
   "cell_type": "code",
   "id": "initial_id",
   "metadata": {
    "collapsed": true,
    "ExecuteTime": {
     "end_time": "2025-05-22T17:49:41.485501Z",
     "start_time": "2025-05-22T17:49:41.475664Z"
    }
   },
   "source": [
    "import numpy as np"
   ],
   "outputs": [],
   "execution_count": 37
  },
  {
   "cell_type": "code",
   "id": "65afe80abebf8719",
   "metadata": {
    "ExecuteTime": {
     "end_time": "2025-05-22T17:49:41.494639Z",
     "start_time": "2025-05-22T17:49:41.491524Z"
    }
   },
   "source": [
    "def power_method (A, x0, max_it = 3, tol = 1e-10, use_residual_stop = True, verbose = False):\n",
    "    q = x0 / np.linalg.norm(x0)\n",
    "\n",
    "    for k in range (1, max_it + 1):\n",
    "        x = A @ q\n",
    "\n",
    "        q = x / np.linalg.norm(x)\n",
    "\n",
    "        lambda_k = q.T @ A @ q\n",
    "\n",
    "        if verbose:\n",
    "            print(f\"Iterace {k}:\")\n",
    "            print(f\"    x = {np.round(x, 3)}\")\n",
    "            print(f\"    q = {np.round(q, 3)}\")\n",
    "            print(f\"    lambda_k = {lambda_k:.3f}\")\n",
    "            if use_residual_stop:\n",
    "                residual = np.linalg.norm(A @ q - lambda_k * q)\n",
    "                if residual < tol:\n",
    "                    break\n",
    "\n",
    "    return lambda_k, q, k\n"
   ],
   "outputs": [],
   "execution_count": 38
  },
  {
   "cell_type": "code",
   "id": "12977a2d0fb568e2",
   "metadata": {
    "ExecuteTime": {
     "end_time": "2025-05-22T17:49:41.509486Z",
     "start_time": "2025-05-22T17:49:41.506272Z"
    }
   },
   "source": [
    "def deflation_method (A, x0, max_it = 3, tol = 1e-10, verbose = False):\n",
    "    n = A.shape[0]\n",
    "    vlastni_cisla = []\n",
    "    vlastni_vektory = []\n",
    "\n",
    "    A_current = A.copy()\n",
    "\n",
    "    for j in range (3):\n",
    "        if j == 0:\n",
    "            print(f\"\\n--- VLASTNI CISLO {j + 1} ---\")\n",
    "            lambda_j, q_j, k = power_method(A_current, x0, max_it, tol, verbose = verbose)\n",
    "        else:\n",
    "            lambda_j, q_j, k = power_method(A_current, x0, max_it, tol, verbose = verbose)\n",
    "\n",
    "        vlastni_cisla.append(lambda_j)\n",
    "        vlastni_vektory.append(q_j)\n",
    "\n",
    "        if j == 0:\n",
    "            print(f\"\\n--> Výsledek {j+1}. iterace deflace:\")\n",
    "            print(f\"    λ = {lambda_j:.3f}\")\n",
    "            print(f\"    q = {np.round(q_j, 3)}\")\n",
    "\n",
    "        A_current = A_current - lambda_j * q_j * q_j.T\n",
    "\n",
    "        if j == 0:\n",
    "            print(f\"A deflovaná =\\n{np.round(A_current, 3)}\")\n",
    "            print(\"____________________________________________________\")\n",
    "\n",
    "\n",
    "    return vlastni_cisla, vlastni_vektory"
   ],
   "outputs": [],
   "execution_count": 39
  },
  {
   "cell_type": "code",
   "id": "7deac2ef8562df4d",
   "metadata": {
    "ExecuteTime": {
     "end_time": "2025-05-22T17:49:41.527441Z",
     "start_time": "2025-05-22T17:49:41.520782Z"
    }
   },
   "source": [
    "A = np.array([\n",
    "    [2, 1, 0],\n",
    "    [1, 3, 1],\n",
    "    [0, 1, 2]\n",
    "], dtype=float)\n",
    "\n",
    "x0 = np.array([1, 0, 0])\n",
    "\n",
    "vlastni_cisla, vlastni_vektory = deflation_method(A, x0, verbose = True)\n",
    "\n",
    "print(\"_______________________________________________________\")\n",
    "print(\"Vlastní čísla a vektory:\")\n",
    "for i in range(3):\n",
    "    print(f\"Vlastní číslo {i + 1}: {vlastni_cisla[i]:.3f}\")\n",
    "    print(f\"Vlastní vektor {i + 1}:\")\n",
    "    for val in vlastni_vektory[i]:\n",
    "        print(f\"  {val:.3f}\")\n",
    "    print(\"____________________________________________________\")\n"
   ],
   "outputs": [
    {
     "name": "stdout",
     "output_type": "stream",
     "text": [
      "\n",
      "--- VLASTNI CISLO 1 ---\n",
      "Iterace 1:\n",
      "    x = [2. 1. 0.]\n",
      "    q = [0.894 0.447 0.   ]\n",
      "    lambda_k = 3.000\n",
      "Iterace 2:\n",
      "    x = [2.236 2.236 0.447]\n",
      "    q = [0.7  0.7  0.14]\n",
      "    lambda_k = 3.667\n",
      "Iterace 3:\n",
      "    x = [2.1   2.941 0.98 ]\n",
      "    q = [0.561 0.785 0.262]\n",
      "    lambda_k = 3.909\n",
      "\n",
      "--> Výsledek 1. iterace deflace:\n",
      "    λ = 3.909\n",
      "    q = [0.561 0.785 0.262]\n",
      "A deflovaná =\n",
      "[[ 0.77  -1.411 -0.268]\n",
      " [-0.23   0.589  0.732]\n",
      " [-1.23  -1.411  1.732]]\n",
      "____________________________________________________\n",
      "Iterace 1:\n",
      "    x = [ 0.77 -0.23 -1.23]\n",
      "    q = [ 0.524 -0.157 -0.837]\n",
      "    lambda_k = 2.143\n",
      "Iterace 2:\n",
      "    x = [ 0.849 -0.826 -1.874]\n",
      "    q = [ 0.383 -0.373 -0.845]\n",
      "    lambda_k = 1.938\n",
      "Iterace 3:\n",
      "    x = [ 1.047 -0.926 -1.41 ]\n",
      "    q = [ 0.527 -0.467 -0.71 ]\n",
      "    lambda_k = 1.955\n",
      "Iterace 1:\n",
      "    x = [ 0.226 -0.774 -1.774]\n",
      "    q = [ 0.116 -0.397 -0.91 ]\n",
      "    lambda_k = 0.331\n",
      "Iterace 2:\n",
      "    x = [ 1.897  0.076 -0.156]\n",
      "    q = [ 0.996  0.04  -0.082]\n",
      "    lambda_k = 0.378\n",
      "Iterace 3:\n",
      "    x = [ 0.254 -0.743 -1.901]\n",
      "    q = [ 0.123 -0.361 -0.924]\n",
      "    lambda_k = 0.426\n",
      "_______________________________________________________\n",
      "Vlastní čísla a vektory:\n",
      "Vlastní číslo 1: 3.909\n",
      "Vlastní vektor 1:\n",
      "  0.561\n",
      "  0.785\n",
      "  0.262\n",
      "____________________________________________________\n",
      "Vlastní číslo 2: 1.955\n",
      "Vlastní vektor 2:\n",
      "  0.527\n",
      "  -0.467\n",
      "  -0.710\n",
      "____________________________________________________\n",
      "Vlastní číslo 3: 0.426\n",
      "Vlastní vektor 3:\n",
      "  0.123\n",
      "  -0.361\n",
      "  -0.924\n",
      "____________________________________________________\n"
     ]
    }
   ],
   "execution_count": 40
  }
 ],
 "metadata": {
  "kernelspec": {
   "display_name": "Python 3",
   "language": "python",
   "name": "python3"
  },
  "language_info": {
   "codemirror_mode": {
    "name": "ipython",
    "version": 2
   },
   "file_extension": ".py",
   "mimetype": "text/x-python",
   "name": "python",
   "nbconvert_exporter": "python",
   "pygments_lexer": "ipython2",
   "version": "2.7.6"
  }
 },
 "nbformat": 4,
 "nbformat_minor": 5
}
